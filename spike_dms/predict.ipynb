{
 "cells": [
  {
   "cell_type": "markdown",
   "id": "d5c1de93-4b21-4f45-b448-921ac336d98a",
   "metadata": {},
   "source": [
    "# Perform regression"
   ]
  },
  {
   "cell_type": "markdown",
   "id": "b13ab826-b528-4e25-b6ef-cf1b97896584",
   "metadata": {},
   "source": [
    "## Make FASTA files with mutations on Wuhan WT"
   ]
  },
  {
   "cell_type": "code",
   "execution_count": 1,
   "id": "749c1eab-5089-41fc-b22e-8e233ce08406",
   "metadata": {
    "tags": []
   },
   "outputs": [],
   "source": [
    "from Bio import SeqIO\n",
    "from Bio.Seq import Seq\n",
    "from Bio.SeqRecord import SeqRecord\n",
    "from Bio.Seq import MutableSeq"
   ]
  },
  {
   "cell_type": "code",
   "execution_count": 2,
   "id": "533cbabc-fc25-46e7-846f-6b5f6c4151bd",
   "metadata": {
    "tags": []
   },
   "outputs": [],
   "source": [
    "with open('wuhan_spike.fasta','r') as in_fasta:\n",
    "    for record in SeqIO.parse(in_fasta,'fasta'):\n",
    "        wuhan = record.seq"
   ]
  },
  {
   "cell_type": "code",
   "execution_count": 3,
   "id": "47f1895c-5e32-48eb-a244-8b64cd2aea80",
   "metadata": {
    "tags": []
   },
   "outputs": [],
   "source": [
    "def make_mutation(mutation):\n",
    "    WT = mutation[0]\n",
    "    mutated = mutation[-1]\n",
    "    site = int(mutation[1:-1])\n",
    "    seq = MutableSeq(str(wuhan))\n",
    "    if seq[site-1] == WT:\n",
    "        seq[site-1] = mutated\n",
    "        seq = seq[318:541]\n",
    "        return SeqRecord(seq, id='Wuhan_RBD_'+mutation,description=\"\")\n",
    "    else:\n",
    "        \"Mutation does not match\""
   ]
  },
  {
   "cell_type": "code",
   "execution_count": 4,
   "id": "568e44b6-56ae-4040-849d-0e32a0fc3586",
   "metadata": {
    "tags": []
   },
   "outputs": [],
   "source": [
    "with open('mutated_seqs.fasta','w') as out:\n",
    "    with open('mutations.txt','r') as i:\n",
    "        lines = i.readlines()\n",
    "        lines = [line.rstrip(\"\\n\") for line in lines]\n",
    "        \n",
    "        for l in lines:\n",
    "            x = make_mutation(l)\n",
    "            SeqIO.write([x], out, \"fasta\")"
   ]
  },
  {
   "cell_type": "markdown",
   "id": "e9ae0bc3-c76f-41fb-9832-cecb315161ec",
   "metadata": {},
   "source": [
    "## Prepare data and fit to logistic regression"
   ]
  },
  {
   "cell_type": "code",
   "execution_count": 1,
   "id": "4db7c7e6-8f9e-4ae9-82b9-3038e2256704",
   "metadata": {
    "tags": []
   },
   "outputs": [],
   "source": [
    "import pandas as pd\n",
    "import torch\n",
    "import numpy as np\n",
    "import matplotlib.pyplot as plt\n",
    "from sklearn.model_selection import train_test_split\n",
    "from sklearn.linear_model import LogisticRegression\n",
    "from sklearn.metrics import accuracy_score, precision_score, recall_score, f1_score, roc_auc_score, log_loss"
   ]
  },
  {
   "cell_type": "code",
   "execution_count": 2,
   "id": "33c62750-f8a9-490f-a749-60cfef38688d",
   "metadata": {
    "tags": []
   },
   "outputs": [],
   "source": [
    "df = pd.read_csv('sheet.csv')\n",
    "df['outcome'] = df['outcome'].astype(int)"
   ]
  },
  {
   "cell_type": "code",
   "execution_count": 3,
   "id": "f9584dfc-fa84-47dc-82a8-6e2b2c21a742",
   "metadata": {
    "tags": []
   },
   "outputs": [],
   "source": [
    "with open('mutated_esms/list.txt','r') as f:\n",
    "    l = f.readlines()\n",
    "    lines = [line.rstrip(\"\\n\") for line in l]\n",
    "lines = lines[:-1]"
   ]
  },
  {
   "cell_type": "code",
   "execution_count": 4,
   "id": "3d624bce-af35-4500-9f30-ba4bec0f3d5e",
   "metadata": {
    "tags": []
   },
   "outputs": [],
   "source": [
    "X = []\n",
    "Y = []\n",
    "for l in lines:\n",
    "    x1 = torch.load('mutated_esms/Wuhan_RBD_'+l+'.pt')['mean_representations'][33]\n",
    "    x2 = df[df['Mutations'] == l][['RBD','ACE2','class','size','polarity','charge','outcome']]\n",
    "    x2 = torch.tensor(x2.values).flatten()\n",
    "    x = torch.concatenate((x1,x2.flatten()))\n",
    "    y = x[-1]\n",
    "    x = x[:-1]\n",
    "    X.append(x)\n",
    "    Y.append(y)"
   ]
  },
  {
   "cell_type": "code",
   "execution_count": 5,
   "id": "4de51df9-b92e-40a4-806a-29309562f756",
   "metadata": {
    "tags": []
   },
   "outputs": [],
   "source": [
    "Y = np.array(Y)"
   ]
  },
  {
   "cell_type": "code",
   "execution_count": 6,
   "id": "f119d304-98b3-4aa9-9399-699fe01a1e18",
   "metadata": {
    "tags": []
   },
   "outputs": [],
   "source": [
    "x_arr = []\n",
    "for i in X:\n",
    "    x = np.array(i)\n",
    "    x_arr.append(x)\n",
    "X = np.array(x_arr)"
   ]
  },
  {
   "cell_type": "code",
   "execution_count": 7,
   "id": "ff452163-7617-4e3c-803d-503dfc88aeb8",
   "metadata": {
    "tags": []
   },
   "outputs": [],
   "source": [
    "X = np.nan_to_num(X, nan=0)\n",
    "X_train, X_test, Y_train, Y_test = train_test_split(X, Y, test_size=0.1)"
   ]
  },
  {
   "cell_type": "code",
   "execution_count": 8,
   "id": "55279a8a-e5a9-40e2-aadb-e27dfc108b90",
   "metadata": {
    "tags": []
   },
   "outputs": [
    {
     "name": "stderr",
     "output_type": "stream",
     "text": [
      "/home/akshay/apps/anaconda3/lib/python3.11/site-packages/sklearn/linear_model/_logistic.py:460: ConvergenceWarning: lbfgs failed to converge (status=1):\n",
      "STOP: TOTAL NO. of ITERATIONS REACHED LIMIT.\n",
      "\n",
      "Increase the number of iterations (max_iter) or scale the data as shown in:\n",
      "    https://scikit-learn.org/stable/modules/preprocessing.html\n",
      "Please also refer to the documentation for alternative solver options:\n",
      "    https://scikit-learn.org/stable/modules/linear_model.html#logistic-regression\n",
      "  n_iter_i = _check_optimize_result(\n"
     ]
    }
   ],
   "source": [
    "logreg = LogisticRegression()\n",
    "logreg.fit(X_train, Y_train)\n",
    "Y_prob = logreg.predict_proba(X_test)"
   ]
  },
  {
   "cell_type": "code",
   "execution_count": 9,
   "id": "39cd6bec-ce21-4789-af19-dadcf81aa456",
   "metadata": {
    "tags": []
   },
   "outputs": [
    {
     "data": {
      "text/plain": [
       "0.18822475616603548"
      ]
     },
     "execution_count": 9,
     "metadata": {},
     "output_type": "execute_result"
    }
   ],
   "source": [
    "log_loss(Y_test, Y_prob)"
   ]
  },
  {
   "cell_type": "code",
   "execution_count": 10,
   "id": "07df514b-7828-4281-9a86-6f267ff35f19",
   "metadata": {
    "tags": []
   },
   "outputs": [
    {
     "data": {
      "text/plain": [
       "0.9523809523809523"
      ]
     },
     "execution_count": 10,
     "metadata": {},
     "output_type": "execute_result"
    }
   ],
   "source": [
    "roc_auc_score(Y_test, Y_prob[:, 1])"
   ]
  },
  {
   "cell_type": "code",
   "execution_count": 11,
   "id": "462ba559-f330-4a9e-a771-049c5e670f12",
   "metadata": {
    "tags": []
   },
   "outputs": [
    {
     "data": {
      "text/plain": [
       "0.9545454545454546"
      ]
     },
     "execution_count": 11,
     "metadata": {},
     "output_type": "execute_result"
    }
   ],
   "source": [
    "accuracy_score(Y_test,np.argmax(Y_prob,-1))"
   ]
  },
  {
   "cell_type": "code",
   "execution_count": 12,
   "id": "e284e61d-684d-4876-ac62-2d267072e593",
   "metadata": {
    "tags": []
   },
   "outputs": [
    {
     "data": {
      "text/plain": [
       "0.0"
      ]
     },
     "execution_count": 12,
     "metadata": {},
     "output_type": "execute_result"
    }
   ],
   "source": [
    "recall_score(Y_test, np.argmax(Y_prob,-1))"
   ]
  },
  {
   "cell_type": "code",
   "execution_count": 13,
   "id": "dc2cfc51-86cb-459f-8511-3890c4f955cf",
   "metadata": {
    "tags": []
   },
   "outputs": [
    {
     "data": {
      "text/plain": [
       "0.0"
      ]
     },
     "execution_count": 13,
     "metadata": {},
     "output_type": "execute_result"
    }
   ],
   "source": [
    "f1_score(Y_test, np.argmax(Y_prob,-1))"
   ]
  },
  {
   "cell_type": "code",
   "execution_count": 16,
   "id": "d41c9830-0732-4321-ad41-a727b8b6855d",
   "metadata": {
    "tags": []
   },
   "outputs": [
    {
     "data": {
      "text/plain": [
       "['logistic_regression.pkl']"
      ]
     },
     "execution_count": 16,
     "metadata": {},
     "output_type": "execute_result"
    }
   ],
   "source": [
    "import joblib\n",
    "joblib.dump(logreg,'logistic_regression.pkl')"
   ]
  },
  {
   "cell_type": "code",
   "execution_count": 20,
   "id": "c1171d90-b6fc-4d96-b1cf-2faf78675435",
   "metadata": {
    "tags": []
   },
   "outputs": [
    {
     "data": {
      "text/plain": [
       "(22, 1286)"
      ]
     },
     "execution_count": 20,
     "metadata": {},
     "output_type": "execute_result"
    }
   ],
   "source": [
    "X_test.shape"
   ]
  },
  {
   "cell_type": "markdown",
   "id": "438db2e3-7ac4-423a-96b8-66ffb2d3fe84",
   "metadata": {},
   "source": [
    "## Use a MLP"
   ]
  },
  {
   "cell_type": "code",
   "execution_count": 1,
   "id": "52b89b37-eff2-4227-b91a-6362205174f1",
   "metadata": {
    "tags": []
   },
   "outputs": [],
   "source": [
    "import pandas as pd\n",
    "import torch\n",
    "import numpy as np\n",
    "import matplotlib.pyplot as plt\n",
    "from sklearn.model_selection import train_test_split\n",
    "from sklearn.linear_model import LogisticRegression\n",
    "from sklearn.metrics import accuracy_score, precision_score, recall_score, f1_score, roc_auc_score, log_loss\n",
    "\n",
    "import torch.nn as nn\n",
    "import torch.optim as optim\n",
    "from torch.utils.data import TensorDataset, DataLoader"
   ]
  },
  {
   "cell_type": "code",
   "execution_count": 2,
   "id": "618ccc9f-ac06-41bd-925e-3901986c690f",
   "metadata": {
    "tags": []
   },
   "outputs": [],
   "source": [
    "df = pd.read_csv('sheet.csv')\n",
    "df['outcome'] = df['outcome'].astype(int)"
   ]
  },
  {
   "cell_type": "code",
   "execution_count": 3,
   "id": "e8fcaa4a-8c58-4cb3-8573-3bc56ca33489",
   "metadata": {
    "tags": []
   },
   "outputs": [],
   "source": [
    "with open('mutated_esms/list.txt','r') as f:\n",
    "    l = f.readlines()\n",
    "    lines = [line.rstrip(\"\\n\") for line in l]\n",
    "lines = lines[:-1]"
   ]
  },
  {
   "cell_type": "code",
   "execution_count": 4,
   "id": "2d47437f-a189-484a-b08b-59ecf83bb1ba",
   "metadata": {
    "tags": []
   },
   "outputs": [],
   "source": [
    "X = []\n",
    "Y = []\n",
    "for l in lines:\n",
    "    x1 = torch.load('mutated_esms/Wuhan_RBD_'+l+'.pt')['mean_representations'][33]\n",
    "    x2 = df[df['Mutations'] == l][['RBD','ACE2','class','size','polarity','charge','outcome']]\n",
    "    x2 = torch.tensor(x2.values).flatten()\n",
    "    x = torch.concatenate((x1,x2.flatten()))\n",
    "    y = x[-1]\n",
    "    x = x[:-1]\n",
    "    X.append(x)\n",
    "    Y.append(y)"
   ]
  },
  {
   "cell_type": "code",
   "execution_count": 5,
   "id": "42b1f1fe-1f0e-47f2-b452-9f4108657a88",
   "metadata": {
    "tags": []
   },
   "outputs": [],
   "source": [
    "Y = np.array(Y)"
   ]
  },
  {
   "cell_type": "code",
   "execution_count": 6,
   "id": "14c8bc16-0469-4da7-9d0a-8a3f660ad956",
   "metadata": {
    "tags": []
   },
   "outputs": [],
   "source": [
    "x_arr = []\n",
    "for i in X:\n",
    "    x = np.array(i)\n",
    "    x_arr.append(x)\n",
    "X = np.array(x_arr)"
   ]
  },
  {
   "cell_type": "code",
   "execution_count": 7,
   "id": "bd12f984-83aa-43b5-8c3f-26fd5d303d8c",
   "metadata": {
    "tags": []
   },
   "outputs": [],
   "source": [
    "# Define the MLP model\n",
    "class MLP(nn.Module):\n",
    "    def __init__(self, input_size, hidden_size, output_size):\n",
    "        super(MLP, self).__init__()\n",
    "        self.fc1 = nn.Linear(input_size, hidden_size)\n",
    "        self.relu = nn.ReLU()\n",
    "        self.fc2 = nn.Linear(hidden_size, output_size)\n",
    "        self.Sigmoid = nn.Sigmoid()\n",
    "\n",
    "    def forward(self, x):\n",
    "        out = self.fc1(x)\n",
    "        out = self.relu(out)\n",
    "        out = self.fc2(out)\n",
    "        out = self.Sigmoid(out)\n",
    "        return out"
   ]
  },
  {
   "cell_type": "code",
   "execution_count": 9,
   "id": "0035723c-276b-44f9-a346-f6fab013e90d",
   "metadata": {
    "tags": []
   },
   "outputs": [
    {
     "name": "stdout",
     "output_type": "stream",
     "text": [
      "Epoch [1/10], Loss: 0.5771\n",
      "0.5623595077155839\n",
      "0.19444444444444445\n",
      "Epoch [2/10], Loss: 0.3764\n",
      "0.4939753380625028\n",
      "0.16666666666666666\n",
      "Epoch [3/10], Loss: 0.3944\n",
      "0.48189175485580477\n",
      "0.15277777777777776\n",
      "Epoch [4/10], Loss: 0.5766\n",
      "0.49763921712725523\n",
      "0.15277777777777776\n",
      "Epoch [5/10], Loss: 0.4565\n",
      "0.5069449802243581\n",
      "0.16666666666666666\n",
      "Epoch [6/10], Loss: 0.3891\n",
      "0.5025961200575796\n",
      "0.19444444444444442\n",
      "Epoch [7/10], Loss: 0.3241\n",
      "0.4931491515531023\n",
      "0.2361111111111111\n",
      "Epoch [8/10], Loss: 0.3226\n",
      "0.4871351863012468\n",
      "0.23611111111111113\n",
      "Epoch [9/10], Loss: 0.3844\n",
      "0.4852582883353747\n",
      "0.23611111111111113\n",
      "Epoch [10/10], Loss: 0.5440\n",
      "0.4857687129740903\n",
      "0.2638888888888889\n",
      "Accuracy: 0.8182\n"
     ]
    }
   ],
   "source": [
    "X = np.nan_to_num(X, nan=0)\n",
    "# Assuming X is your list of 213 vectors and Y is your list of labels (zeros and ones)\n",
    "# Convert numpy arrays to PyTorch tensors\n",
    "X_tensor = torch.tensor(X, dtype=torch.float32)\n",
    "Y_tensor = torch.tensor(Y, dtype=torch.float32)\n",
    "\n",
    "# Split the data into training and testing sets\n",
    "X_train, X_test, Y_train, Y_test = train_test_split(X_tensor, Y_tensor, test_size=0.1)\n",
    "\n",
    "# Initialize the model, loss function, and optimizer\n",
    "input_size = X.shape[1]  # Assuming X has shape (number of samples, number of features)\n",
    "hidden_size = 32\n",
    "output_size = 1\n",
    "model = MLP(input_size, hidden_size, output_size)\n",
    "criterion = nn.BCELoss()  # Binary Cross Entropy Loss\n",
    "optimizer = optim.Adam(model.parameters(), lr=0.001)  # Adam optimizer\n",
    "\n",
    "# Create DataLoader for training set\n",
    "train_dataset = TensorDataset(X_train, Y_train)\n",
    "train_loader = DataLoader(train_dataset, batch_size=32, shuffle=True)\n",
    "\n",
    "# Train the model\n",
    "num_epochs = 10\n",
    "for epoch in range(num_epochs):\n",
    "    for inputs, labels in train_loader:\n",
    "        optimizer.zero_grad()\n",
    "        outputs = model(inputs)\n",
    "        loss = criterion(outputs, labels.unsqueeze(1))  # BCELoss expects labels to have shape (batch_size, 1)\n",
    "        loss.backward()\n",
    "        optimizer.step()\n",
    "    print(f'Epoch [{epoch+1}/{num_epochs}], Loss: {loss.item():.4f}')\n",
    "    with torch.no_grad():\n",
    "        model.eval()\n",
    "        outputs = model(X_test)\n",
    "        print(log_loss(Y_test, outputs))\n",
    "        print(roc_auc_score(Y_test, outputs))\n",
    "        #predicted = (outputs >= 0.5).float()  # Convert probabilities to binary predictions\n",
    "        #accuracy = (predicted == Y_test.unsqueeze(1)).float().mean().item()\n",
    "        #print(f'Accuracy: {accuracy:.4f}')\n",
    "\n",
    "# Evaluate the model\n",
    "with torch.no_grad():\n",
    "    model.eval()\n",
    "    outputs = model(X_test)\n",
    "    predicted = (outputs >= 0.5).float()  # Convert probabilities to binary predictions\n",
    "    accuracy = (predicted == Y_test.unsqueeze(1)).float().mean().item()\n",
    "    print(f'Accuracy: {accuracy:.4f}')"
   ]
  },
  {
   "cell_type": "markdown",
   "id": "84c0651a-e25d-41c4-ae1e-a749005fdefb",
   "metadata": {},
   "source": [
    "## Use XGBoost"
   ]
  },
  {
   "cell_type": "code",
   "execution_count": 1,
   "id": "c6374d27-ceac-4ab5-a5ba-9dda1c0577f1",
   "metadata": {
    "tags": []
   },
   "outputs": [],
   "source": [
    "import pandas as pd\n",
    "import torch\n",
    "import numpy as np\n",
    "import matplotlib.pyplot as plt\n",
    "from sklearn.model_selection import train_test_split\n",
    "import xgboost as xgb\n",
    "from sklearn.metrics import accuracy_score, precision_score, recall_score, f1_score, roc_auc_score, log_loss"
   ]
  },
  {
   "cell_type": "code",
   "execution_count": 2,
   "id": "3d02af00-cd9c-4374-8dac-b556a2423961",
   "metadata": {
    "tags": []
   },
   "outputs": [],
   "source": [
    "df = pd.read_csv('sheet.csv')\n",
    "df['outcome'] = df['outcome'].astype(int)"
   ]
  },
  {
   "cell_type": "code",
   "execution_count": 3,
   "id": "1b6085e2-073f-4bbf-ad6e-3de8d4c68628",
   "metadata": {
    "tags": []
   },
   "outputs": [],
   "source": [
    "with open('mutated_esms/list.txt','r') as f:\n",
    "    l = f.readlines()\n",
    "    lines = [line.rstrip(\"\\n\") for line in l]\n",
    "lines = lines[:-1]"
   ]
  },
  {
   "cell_type": "code",
   "execution_count": 4,
   "id": "aa0d45b0-1802-4750-9fec-75e03fab3b70",
   "metadata": {
    "tags": []
   },
   "outputs": [],
   "source": [
    "X = []\n",
    "Y = []\n",
    "for l in lines:\n",
    "    x1 = torch.load('mutated_esms/Wuhan_RBD_'+l+'.pt')['mean_representations'][33]\n",
    "    x2 = df[df['Mutations'] == l][['RBD','ACE2','class','size','polarity','charge','outcome']]\n",
    "    x2 = torch.tensor(x2.values).flatten()\n",
    "    x = torch.concatenate((x1,x2.flatten()))\n",
    "    y = x[-1]\n",
    "    x = x[:-1]\n",
    "    X.append(x)\n",
    "    Y.append(y)"
   ]
  },
  {
   "cell_type": "code",
   "execution_count": 5,
   "id": "70ebe909-42f3-44b3-ac4c-3011b0c4bedd",
   "metadata": {
    "tags": []
   },
   "outputs": [],
   "source": [
    "Y = np.array(Y)"
   ]
  },
  {
   "cell_type": "code",
   "execution_count": 6,
   "id": "d069c88a-6bc9-49c9-bf72-8a7c3726ec64",
   "metadata": {
    "tags": []
   },
   "outputs": [],
   "source": [
    "x_arr = []\n",
    "for i in X:\n",
    "    x = np.array(i)\n",
    "    x_arr.append(x)\n",
    "X = np.array(x_arr)"
   ]
  },
  {
   "cell_type": "code",
   "execution_count": 23,
   "id": "d04ddd32-2aae-4d67-aaa5-636e933a90f4",
   "metadata": {
    "tags": []
   },
   "outputs": [],
   "source": [
    "X = np.nan_to_num(X, nan=0)\n",
    "X_train, X_test, Y_train, Y_test = train_test_split(X, Y, test_size=0.1)"
   ]
  },
  {
   "cell_type": "code",
   "execution_count": 24,
   "id": "6ebc5916-0100-4361-9b0b-38cb7f722aa4",
   "metadata": {
    "tags": []
   },
   "outputs": [
    {
     "data": {
      "text/html": [
       "<style>#sk-container-id-3 {color: black;}#sk-container-id-3 pre{padding: 0;}#sk-container-id-3 div.sk-toggleable {background-color: white;}#sk-container-id-3 label.sk-toggleable__label {cursor: pointer;display: block;width: 100%;margin-bottom: 0;padding: 0.3em;box-sizing: border-box;text-align: center;}#sk-container-id-3 label.sk-toggleable__label-arrow:before {content: \"▸\";float: left;margin-right: 0.25em;color: #696969;}#sk-container-id-3 label.sk-toggleable__label-arrow:hover:before {color: black;}#sk-container-id-3 div.sk-estimator:hover label.sk-toggleable__label-arrow:before {color: black;}#sk-container-id-3 div.sk-toggleable__content {max-height: 0;max-width: 0;overflow: hidden;text-align: left;background-color: #f0f8ff;}#sk-container-id-3 div.sk-toggleable__content pre {margin: 0.2em;color: black;border-radius: 0.25em;background-color: #f0f8ff;}#sk-container-id-3 input.sk-toggleable__control:checked~div.sk-toggleable__content {max-height: 200px;max-width: 100%;overflow: auto;}#sk-container-id-3 input.sk-toggleable__control:checked~label.sk-toggleable__label-arrow:before {content: \"▾\";}#sk-container-id-3 div.sk-estimator input.sk-toggleable__control:checked~label.sk-toggleable__label {background-color: #d4ebff;}#sk-container-id-3 div.sk-label input.sk-toggleable__control:checked~label.sk-toggleable__label {background-color: #d4ebff;}#sk-container-id-3 input.sk-hidden--visually {border: 0;clip: rect(1px 1px 1px 1px);clip: rect(1px, 1px, 1px, 1px);height: 1px;margin: -1px;overflow: hidden;padding: 0;position: absolute;width: 1px;}#sk-container-id-3 div.sk-estimator {font-family: monospace;background-color: #f0f8ff;border: 1px dotted black;border-radius: 0.25em;box-sizing: border-box;margin-bottom: 0.5em;}#sk-container-id-3 div.sk-estimator:hover {background-color: #d4ebff;}#sk-container-id-3 div.sk-parallel-item::after {content: \"\";width: 100%;border-bottom: 1px solid gray;flex-grow: 1;}#sk-container-id-3 div.sk-label:hover label.sk-toggleable__label {background-color: #d4ebff;}#sk-container-id-3 div.sk-serial::before {content: \"\";position: absolute;border-left: 1px solid gray;box-sizing: border-box;top: 0;bottom: 0;left: 50%;z-index: 0;}#sk-container-id-3 div.sk-serial {display: flex;flex-direction: column;align-items: center;background-color: white;padding-right: 0.2em;padding-left: 0.2em;position: relative;}#sk-container-id-3 div.sk-item {position: relative;z-index: 1;}#sk-container-id-3 div.sk-parallel {display: flex;align-items: stretch;justify-content: center;background-color: white;position: relative;}#sk-container-id-3 div.sk-item::before, #sk-container-id-3 div.sk-parallel-item::before {content: \"\";position: absolute;border-left: 1px solid gray;box-sizing: border-box;top: 0;bottom: 0;left: 50%;z-index: -1;}#sk-container-id-3 div.sk-parallel-item {display: flex;flex-direction: column;z-index: 1;position: relative;background-color: white;}#sk-container-id-3 div.sk-parallel-item:first-child::after {align-self: flex-end;width: 50%;}#sk-container-id-3 div.sk-parallel-item:last-child::after {align-self: flex-start;width: 50%;}#sk-container-id-3 div.sk-parallel-item:only-child::after {width: 0;}#sk-container-id-3 div.sk-dashed-wrapped {border: 1px dashed gray;margin: 0 0.4em 0.5em 0.4em;box-sizing: border-box;padding-bottom: 0.4em;background-color: white;}#sk-container-id-3 div.sk-label label {font-family: monospace;font-weight: bold;display: inline-block;line-height: 1.2em;}#sk-container-id-3 div.sk-label-container {text-align: center;}#sk-container-id-3 div.sk-container {/* jupyter's `normalize.less` sets `[hidden] { display: none; }` but bootstrap.min.css set `[hidden] { display: none !important; }` so we also need the `!important` here to be able to override the default hidden behavior on the sphinx rendered scikit-learn.org. See: https://github.com/scikit-learn/scikit-learn/issues/21755 */display: inline-block !important;position: relative;}#sk-container-id-3 div.sk-text-repr-fallback {display: none;}</style><div id=\"sk-container-id-3\" class=\"sk-top-container\"><div class=\"sk-text-repr-fallback\"><pre>XGBClassifier(base_score=None, booster=None, callbacks=None,\n",
       "              colsample_bylevel=None, colsample_bynode=None,\n",
       "              colsample_bytree=None, device=None, early_stopping_rounds=None,\n",
       "              enable_categorical=False, eval_metric=None, feature_types=None,\n",
       "              gamma=None, grow_policy=None, importance_type=None,\n",
       "              interaction_constraints=None, learning_rate=None, max_bin=None,\n",
       "              max_cat_threshold=None, max_cat_to_onehot=None,\n",
       "              max_delta_step=None, max_depth=None, max_leaves=None,\n",
       "              min_child_weight=None, missing=nan, monotone_constraints=None,\n",
       "              multi_strategy=None, n_estimators=None, n_jobs=None,\n",
       "              num_parallel_tree=None, random_state=None, ...)</pre><b>In a Jupyter environment, please rerun this cell to show the HTML representation or trust the notebook. <br />On GitHub, the HTML representation is unable to render, please try loading this page with nbviewer.org.</b></div><div class=\"sk-container\" hidden><div class=\"sk-item\"><div class=\"sk-estimator sk-toggleable\"><input class=\"sk-toggleable__control sk-hidden--visually\" id=\"sk-estimator-id-3\" type=\"checkbox\" checked><label for=\"sk-estimator-id-3\" class=\"sk-toggleable__label sk-toggleable__label-arrow\">XGBClassifier</label><div class=\"sk-toggleable__content\"><pre>XGBClassifier(base_score=None, booster=None, callbacks=None,\n",
       "              colsample_bylevel=None, colsample_bynode=None,\n",
       "              colsample_bytree=None, device=None, early_stopping_rounds=None,\n",
       "              enable_categorical=False, eval_metric=None, feature_types=None,\n",
       "              gamma=None, grow_policy=None, importance_type=None,\n",
       "              interaction_constraints=None, learning_rate=None, max_bin=None,\n",
       "              max_cat_threshold=None, max_cat_to_onehot=None,\n",
       "              max_delta_step=None, max_depth=None, max_leaves=None,\n",
       "              min_child_weight=None, missing=nan, monotone_constraints=None,\n",
       "              multi_strategy=None, n_estimators=None, n_jobs=None,\n",
       "              num_parallel_tree=None, random_state=None, ...)</pre></div></div></div></div></div>"
      ],
      "text/plain": [
       "XGBClassifier(base_score=None, booster=None, callbacks=None,\n",
       "              colsample_bylevel=None, colsample_bynode=None,\n",
       "              colsample_bytree=None, device=None, early_stopping_rounds=None,\n",
       "              enable_categorical=False, eval_metric=None, feature_types=None,\n",
       "              gamma=None, grow_policy=None, importance_type=None,\n",
       "              interaction_constraints=None, learning_rate=None, max_bin=None,\n",
       "              max_cat_threshold=None, max_cat_to_onehot=None,\n",
       "              max_delta_step=None, max_depth=None, max_leaves=None,\n",
       "              min_child_weight=None, missing=nan, monotone_constraints=None,\n",
       "              multi_strategy=None, n_estimators=None, n_jobs=None,\n",
       "              num_parallel_tree=None, random_state=None, ...)"
      ]
     },
     "execution_count": 24,
     "metadata": {},
     "output_type": "execute_result"
    }
   ],
   "source": [
    "model = xgb.XGBClassifier()\n",
    "model.fit(X_train, Y_train)"
   ]
  },
  {
   "cell_type": "code",
   "execution_count": 25,
   "id": "efbdf633-d74d-4f8c-bdda-ea8a6f0d13fd",
   "metadata": {
    "tags": []
   },
   "outputs": [],
   "source": [
    "Y_pred = model.predict(X_test)"
   ]
  },
  {
   "cell_type": "code",
   "execution_count": 26,
   "id": "3011eb9c-c6b8-44e2-afe4-4fe74d8ee697",
   "metadata": {
    "tags": []
   },
   "outputs": [
    {
     "data": {
      "text/plain": [
       "0.7727272727272727"
      ]
     },
     "execution_count": 26,
     "metadata": {},
     "output_type": "execute_result"
    }
   ],
   "source": [
    "accuracy_score(Y_test, Y_pred)"
   ]
  },
  {
   "cell_type": "code",
   "execution_count": 27,
   "id": "6a3aac38-16ce-4a40-a6ac-29c97795e31f",
   "metadata": {
    "tags": []
   },
   "outputs": [
    {
     "data": {
      "text/plain": [
       "0.5"
      ]
     },
     "execution_count": 27,
     "metadata": {},
     "output_type": "execute_result"
    }
   ],
   "source": [
    "roc_auc_score(Y_test, Y_pred)"
   ]
  },
  {
   "cell_type": "code",
   "execution_count": 28,
   "id": "af478f09-845b-4619-aa29-3557626ba859",
   "metadata": {
    "tags": []
   },
   "outputs": [
    {
     "data": {
      "text/plain": [
       "0.0"
      ]
     },
     "execution_count": 28,
     "metadata": {},
     "output_type": "execute_result"
    }
   ],
   "source": [
    "f1_score(Y_test, Y_pred)"
   ]
  },
  {
   "cell_type": "code",
   "execution_count": 29,
   "id": "6b62aa47-1c90-4459-b3ec-428041c88980",
   "metadata": {
    "tags": []
   },
   "outputs": [
    {
     "data": {
      "text/plain": [
       "0.0"
      ]
     },
     "execution_count": 29,
     "metadata": {},
     "output_type": "execute_result"
    }
   ],
   "source": [
    "recall_score(Y_test, Y_pred)"
   ]
  },
  {
   "cell_type": "code",
   "execution_count": 22,
   "id": "9fdcb00a-7632-46f6-bcdb-ab96b5cada94",
   "metadata": {
    "tags": []
   },
   "outputs": [
    {
     "name": "stderr",
     "output_type": "stream",
     "text": [
      "/home/akshay/apps/anaconda3/lib/python3.11/site-packages/sklearn/metrics/_classification.py:1469: UndefinedMetricWarning: Precision is ill-defined and being set to 0.0 due to no predicted samples. Use `zero_division` parameter to control this behavior.\n",
      "  _warn_prf(average, modifier, msg_start, len(result))\n"
     ]
    },
    {
     "data": {
      "text/plain": [
       "0.0"
      ]
     },
     "execution_count": 22,
     "metadata": {},
     "output_type": "execute_result"
    }
   ],
   "source": [
    "precision_score(Y_test, Y_pred)"
   ]
  },
  {
   "cell_type": "code",
   "execution_count": 31,
   "id": "69b8dd31-611e-4a9d-ae5f-6938cef56e56",
   "metadata": {
    "tags": []
   },
   "outputs": [],
   "source": [
    "import joblib"
   ]
  },
  {
   "cell_type": "code",
   "execution_count": 32,
   "id": "33cc35c6-f8c2-439a-8c86-952f278a8b1e",
   "metadata": {
    "tags": []
   },
   "outputs": [
    {
     "data": {
      "text/plain": [
       "['xgboost.pkl']"
      ]
     },
     "execution_count": 32,
     "metadata": {},
     "output_type": "execute_result"
    }
   ],
   "source": [
    "joblib.dump(model,'xgboost.pkl')"
   ]
  },
  {
   "cell_type": "markdown",
   "id": "b6a3c3f0-3805-4bb4-b502-15e4476c7b89",
   "metadata": {},
   "source": [
    "## Decision tree"
   ]
  },
  {
   "cell_type": "code",
   "execution_count": 1,
   "id": "3c31a570-4e60-4911-9e35-c0da06d72d60",
   "metadata": {
    "tags": []
   },
   "outputs": [],
   "source": [
    "import pandas as pd\n",
    "import torch\n",
    "import numpy as np\n",
    "import matplotlib.pyplot as plt\n",
    "from sklearn.model_selection import train_test_split\n",
    "from sklearn import tree\n",
    "from sklearn.metrics import accuracy_score, precision_score, recall_score, f1_score, roc_auc_score, log_loss"
   ]
  },
  {
   "cell_type": "code",
   "execution_count": 2,
   "id": "1ab3e186-b801-42a4-a432-4713381b5aa1",
   "metadata": {
    "tags": []
   },
   "outputs": [],
   "source": [
    "df = pd.read_csv('sheet.csv')\n",
    "df['outcome'] = df['outcome'].astype(int)"
   ]
  },
  {
   "cell_type": "code",
   "execution_count": 3,
   "id": "648cf58e-2f8c-4661-a275-2fda2f656cda",
   "metadata": {
    "tags": []
   },
   "outputs": [],
   "source": [
    "with open('mutated_esms/list.txt','r') as f:\n",
    "    l = f.readlines()\n",
    "    lines = [line.rstrip(\"\\n\") for line in l]\n",
    "lines = lines[:-1]"
   ]
  },
  {
   "cell_type": "code",
   "execution_count": 4,
   "id": "61886972-2520-4f9d-983c-e1ff2361a8c0",
   "metadata": {
    "tags": []
   },
   "outputs": [],
   "source": [
    "X = []\n",
    "Y = []\n",
    "for l in lines:\n",
    "    x1 = torch.load('mutated_esms/Wuhan_RBD_'+l+'.pt')['mean_representations'][33]\n",
    "    x2 = df[df['Mutations'] == l][['RBD','ACE2','class','size','polarity','charge','outcome']]\n",
    "    x2 = torch.tensor(x2.values).flatten()\n",
    "    x = torch.concatenate((x1,x2.flatten()))\n",
    "    y = x[-1]\n",
    "    x = x[:-1]\n",
    "    X.append(x)\n",
    "    Y.append(y)"
   ]
  },
  {
   "cell_type": "code",
   "execution_count": 5,
   "id": "129c018c-0150-44f9-8d1a-0d1360bd1bba",
   "metadata": {
    "tags": []
   },
   "outputs": [],
   "source": [
    "Y = np.array(Y)"
   ]
  },
  {
   "cell_type": "code",
   "execution_count": 6,
   "id": "6ab1eb5a-3b2d-415e-b5d9-a10539016c71",
   "metadata": {
    "tags": []
   },
   "outputs": [],
   "source": [
    "x_arr = []\n",
    "for i in X:\n",
    "    x = np.array(i)\n",
    "    x_arr.append(x)\n",
    "X = np.array(x_arr)"
   ]
  },
  {
   "cell_type": "code",
   "execution_count": 13,
   "id": "072c1e8a-07a3-4c61-a7a2-9311165ef586",
   "metadata": {
    "tags": []
   },
   "outputs": [],
   "source": [
    "X = np.nan_to_num(X, nan=0)\n",
    "X_train, X_test, Y_train, Y_test = train_test_split(X, Y, test_size=0.1)"
   ]
  },
  {
   "cell_type": "code",
   "execution_count": 14,
   "id": "9bf29f58-1ab9-463f-87f1-113faf5c420e",
   "metadata": {
    "tags": []
   },
   "outputs": [],
   "source": [
    "clf = tree.DecisionTreeRegressor()\n",
    "clf = clf.fit(X_train, Y_train)\n",
    "Y_pred = clf.predict(X_test)"
   ]
  },
  {
   "cell_type": "code",
   "execution_count": 15,
   "id": "0c23078c-9489-4b74-a6e3-ae67614251b7",
   "metadata": {
    "tags": []
   },
   "outputs": [
    {
     "data": {
      "text/plain": [
       "0.8181818181818182"
      ]
     },
     "execution_count": 15,
     "metadata": {},
     "output_type": "execute_result"
    }
   ],
   "source": [
    "accuracy_score(Y_test,Y_pred)"
   ]
  },
  {
   "cell_type": "code",
   "execution_count": 16,
   "id": "b58b87b5-7bc9-4b9e-8ff5-56509bf88cb1",
   "metadata": {
    "tags": []
   },
   "outputs": [
    {
     "data": {
      "text/plain": [
       "1.0"
      ]
     },
     "execution_count": 16,
     "metadata": {},
     "output_type": "execute_result"
    }
   ],
   "source": [
    "precision_score(Y_test,Y_pred)"
   ]
  },
  {
   "cell_type": "code",
   "execution_count": 17,
   "id": "95d838da-1255-444e-8e0f-2ccc0943c48b",
   "metadata": {
    "tags": []
   },
   "outputs": [
    {
     "data": {
      "text/plain": [
       "0.3333333333333333"
      ]
     },
     "execution_count": 17,
     "metadata": {},
     "output_type": "execute_result"
    }
   ],
   "source": [
    "recall_score(Y_test, Y_pred)"
   ]
  },
  {
   "cell_type": "code",
   "execution_count": 18,
   "id": "29ce0d17-5bc2-4497-9477-ac98d26091f9",
   "metadata": {
    "tags": []
   },
   "outputs": [
    {
     "data": {
      "text/plain": [
       "0.5"
      ]
     },
     "execution_count": 18,
     "metadata": {},
     "output_type": "execute_result"
    }
   ],
   "source": [
    "f1_score(Y_test, Y_pred)"
   ]
  },
  {
   "cell_type": "code",
   "execution_count": 19,
   "id": "3261ed2c-3d76-4f0e-a73f-0b06251cebc4",
   "metadata": {
    "tags": []
   },
   "outputs": [],
   "source": [
    "import joblib"
   ]
  },
  {
   "cell_type": "code",
   "execution_count": 20,
   "id": "5c4d3840-f1d4-4e38-984b-00c3de4bc2c9",
   "metadata": {
    "tags": []
   },
   "outputs": [
    {
     "data": {
      "text/plain": [
       "['decisiontree.pkl']"
      ]
     },
     "execution_count": 20,
     "metadata": {},
     "output_type": "execute_result"
    }
   ],
   "source": [
    "joblib.dump(clf,'decisiontree.pkl')"
   ]
  },
  {
   "cell_type": "code",
   "execution_count": null,
   "id": "4e8d818e-3d9a-4015-a607-bd89dd62bb67",
   "metadata": {},
   "outputs": [],
   "source": []
  },
  {
   "cell_type": "markdown",
   "id": "5e23c912-b9bd-4355-b938-5fe936b7b3c6",
   "metadata": {
    "jp-MarkdownHeadingCollapsed": true,
    "tags": []
   },
   "source": [
    "# Tests"
   ]
  },
  {
   "cell_type": "code",
   "execution_count": 15,
   "id": "b56ee64d-acb8-4c2d-9264-6d656671c0b5",
   "metadata": {
    "tags": []
   },
   "outputs": [
    {
     "data": {
      "text/plain": [
       "0.7307692307692308"
      ]
     },
     "execution_count": 15,
     "metadata": {},
     "output_type": "execute_result"
    }
   ],
   "source": [
    "roc_auc_score(Y_test, Y_prob[:, 1])"
   ]
  },
  {
   "cell_type": "code",
   "execution_count": 69,
   "id": "f1609e5b-17e0-4694-bf66-93f406798c44",
   "metadata": {
    "tags": []
   },
   "outputs": [],
   "source": [
    "import pandas as pd"
   ]
  },
  {
   "cell_type": "code",
   "execution_count": 91,
   "id": "c87a2786-185f-4d99-9679-1f6a7d493dcd",
   "metadata": {
    "tags": []
   },
   "outputs": [],
   "source": [
    "df = pd.read_csv('sheet.csv')\n",
    "df['outcome'] = df['outcome'].astype(int)"
   ]
  },
  {
   "cell_type": "code",
   "execution_count": 135,
   "id": "e6d42287-03e5-4578-b34d-68126a2e7c48",
   "metadata": {
    "tags": []
   },
   "outputs": [
    {
     "data": {
      "text/html": [
       "<div>\n",
       "<style scoped>\n",
       "    .dataframe tbody tr th:only-of-type {\n",
       "        vertical-align: middle;\n",
       "    }\n",
       "\n",
       "    .dataframe tbody tr th {\n",
       "        vertical-align: top;\n",
       "    }\n",
       "\n",
       "    .dataframe thead th {\n",
       "        text-align: right;\n",
       "    }\n",
       "</style>\n",
       "<table border=\"1\" class=\"dataframe\">\n",
       "  <thead>\n",
       "    <tr style=\"text-align: right;\">\n",
       "      <th></th>\n",
       "      <th>Mutations</th>\n",
       "      <th>prev</th>\n",
       "      <th>where</th>\n",
       "      <th>RBD</th>\n",
       "      <th>ACE2</th>\n",
       "      <th>class</th>\n",
       "      <th>size</th>\n",
       "      <th>polarity</th>\n",
       "      <th>charge</th>\n",
       "      <th>mutations</th>\n",
       "      <th>outcome</th>\n",
       "    </tr>\n",
       "  </thead>\n",
       "  <tbody>\n",
       "    <tr>\n",
       "      <th>0</th>\n",
       "      <td>G339H</td>\n",
       "      <td>YES</td>\n",
       "      <td>B.1.1.529/XBB,BA.2.86</td>\n",
       "      <td>0.118639</td>\n",
       "      <td>0.0000</td>\n",
       "      <td>5</td>\n",
       "      <td>1</td>\n",
       "      <td>1</td>\n",
       "      <td>0</td>\n",
       "      <td>GH</td>\n",
       "      <td>1</td>\n",
       "    </tr>\n",
       "    <tr>\n",
       "      <th>1</th>\n",
       "      <td>Q493R</td>\n",
       "      <td>YES</td>\n",
       "      <td>B.1.1.529/BA.1,BA.2</td>\n",
       "      <td>-0.017792</td>\n",
       "      <td>-0.4068</td>\n",
       "      <td>2</td>\n",
       "      <td>0</td>\n",
       "      <td>0</td>\n",
       "      <td>1</td>\n",
       "      <td>QR</td>\n",
       "      <td>1</td>\n",
       "    </tr>\n",
       "    <tr>\n",
       "      <th>2</th>\n",
       "      <td>S371L</td>\n",
       "      <td>YES</td>\n",
       "      <td>B.1.1.529/BA.1</td>\n",
       "      <td>-0.258961</td>\n",
       "      <td>0.0000</td>\n",
       "      <td>4</td>\n",
       "      <td>0</td>\n",
       "      <td>-1</td>\n",
       "      <td>0</td>\n",
       "      <td>SL</td>\n",
       "      <td>1</td>\n",
       "    </tr>\n",
       "    <tr>\n",
       "      <th>3</th>\n",
       "      <td>G446S</td>\n",
       "      <td>YES</td>\n",
       "      <td>B.1.1.529/BA.1,BA.2,BA.2.75,BA.2.86,CM.8,XBB</td>\n",
       "      <td>3.274680</td>\n",
       "      <td>-0.4243</td>\n",
       "      <td>3</td>\n",
       "      <td>1</td>\n",
       "      <td>1</td>\n",
       "      <td>0</td>\n",
       "      <td>GS</td>\n",
       "      <td>1</td>\n",
       "    </tr>\n",
       "    <tr>\n",
       "      <th>4</th>\n",
       "      <td>R346T</td>\n",
       "      <td>YES</td>\n",
       "      <td>B.1.1.529/BS.1,FV.1,BM.1,BM.4.1.1</td>\n",
       "      <td>1.165800</td>\n",
       "      <td>0.0000</td>\n",
       "      <td>3</td>\n",
       "      <td>-1</td>\n",
       "      <td>0</td>\n",
       "      <td>-1</td>\n",
       "      <td>RT</td>\n",
       "      <td>1</td>\n",
       "    </tr>\n",
       "    <tr>\n",
       "      <th>...</th>\n",
       "      <td>...</td>\n",
       "      <td>...</td>\n",
       "      <td>...</td>\n",
       "      <td>...</td>\n",
       "      <td>...</td>\n",
       "      <td>...</td>\n",
       "      <td>...</td>\n",
       "      <td>...</td>\n",
       "      <td>...</td>\n",
       "      <td>...</td>\n",
       "      <td>...</td>\n",
       "    </tr>\n",
       "    <tr>\n",
       "      <th>208</th>\n",
       "      <td>V445L</td>\n",
       "      <td>NaN</td>\n",
       "      <td>NaN</td>\n",
       "      <td>-0.860684</td>\n",
       "      <td>-0.1809</td>\n",
       "      <td>3</td>\n",
       "      <td>0</td>\n",
       "      <td>0</td>\n",
       "      <td>0</td>\n",
       "      <td>VL</td>\n",
       "      <td>0</td>\n",
       "    </tr>\n",
       "    <tr>\n",
       "      <th>209</th>\n",
       "      <td>P507A</td>\n",
       "      <td>NaN</td>\n",
       "      <td>NaN</td>\n",
       "      <td>2.369770</td>\n",
       "      <td>-0.0026</td>\n",
       "      <td>5</td>\n",
       "      <td>0</td>\n",
       "      <td>0</td>\n",
       "      <td>0</td>\n",
       "      <td>PA</td>\n",
       "      <td>0</td>\n",
       "    </tr>\n",
       "    <tr>\n",
       "      <th>210</th>\n",
       "      <td>G446D</td>\n",
       "      <td>NaN</td>\n",
       "      <td>NaN</td>\n",
       "      <td>3.011890</td>\n",
       "      <td>-0.4027</td>\n",
       "      <td>3</td>\n",
       "      <td>1</td>\n",
       "      <td>1</td>\n",
       "      <td>-1</td>\n",
       "      <td>GD</td>\n",
       "      <td>0</td>\n",
       "    </tr>\n",
       "    <tr>\n",
       "      <th>211</th>\n",
       "      <td>F464L</td>\n",
       "      <td>NaN</td>\n",
       "      <td>NaN</td>\n",
       "      <td>1.867110</td>\n",
       "      <td>0.0000</td>\n",
       "      <td>5</td>\n",
       "      <td>-1</td>\n",
       "      <td>0</td>\n",
       "      <td>0</td>\n",
       "      <td>FL</td>\n",
       "      <td>0</td>\n",
       "    </tr>\n",
       "    <tr>\n",
       "      <th>212</th>\n",
       "      <td>F486A</td>\n",
       "      <td>NaN</td>\n",
       "      <td>NaN</td>\n",
       "      <td>0.001073</td>\n",
       "      <td>2.9016</td>\n",
       "      <td>1</td>\n",
       "      <td>-1</td>\n",
       "      <td>0</td>\n",
       "      <td>0</td>\n",
       "      <td>FA</td>\n",
       "      <td>0</td>\n",
       "    </tr>\n",
       "  </tbody>\n",
       "</table>\n",
       "<p>213 rows × 11 columns</p>\n",
       "</div>"
      ],
      "text/plain": [
       "    Mutations prev                                         where       RBD  \\\n",
       "0       G339H  YES                         B.1.1.529/XBB,BA.2.86  0.118639   \n",
       "1       Q493R  YES                           B.1.1.529/BA.1,BA.2 -0.017792   \n",
       "2       S371L  YES                               B.1.1.529/BA.1  -0.258961   \n",
       "3       G446S  YES  B.1.1.529/BA.1,BA.2,BA.2.75,BA.2.86,CM.8,XBB  3.274680   \n",
       "4       R346T  YES             B.1.1.529/BS.1,FV.1,BM.1,BM.4.1.1  1.165800   \n",
       "..        ...  ...                                           ...       ...   \n",
       "208     V445L  NaN                                           NaN -0.860684   \n",
       "209     P507A  NaN                                           NaN  2.369770   \n",
       "210     G446D  NaN                                           NaN  3.011890   \n",
       "211     F464L  NaN                                           NaN  1.867110   \n",
       "212     F486A  NaN                                           NaN  0.001073   \n",
       "\n",
       "       ACE2  class  size  polarity  charge mutations  outcome  \n",
       "0    0.0000      5     1         1       0        GH        1  \n",
       "1   -0.4068      2     0         0       1        QR        1  \n",
       "2    0.0000      4     0        -1       0        SL        1  \n",
       "3   -0.4243      3     1         1       0        GS        1  \n",
       "4    0.0000      3    -1         0      -1        RT        1  \n",
       "..      ...    ...   ...       ...     ...       ...      ...  \n",
       "208 -0.1809      3     0         0       0        VL        0  \n",
       "209 -0.0026      5     0         0       0        PA        0  \n",
       "210 -0.4027      3     1         1      -1        GD        0  \n",
       "211  0.0000      5    -1         0       0        FL        0  \n",
       "212  2.9016      1    -1         0       0        FA        0  \n",
       "\n",
       "[213 rows x 11 columns]"
      ]
     },
     "execution_count": 135,
     "metadata": {},
     "output_type": "execute_result"
    }
   ],
   "source": [
    "df"
   ]
  },
  {
   "cell_type": "code",
   "execution_count": 92,
   "id": "b31bfd7e-83bd-4a9d-b931-aef6f66650a0",
   "metadata": {
    "tags": []
   },
   "outputs": [],
   "source": [
    "with open('mutated_esms/list.txt','r') as f:\n",
    "    l = f.readlines()\n",
    "    lines = [line.rstrip(\"\\n\") for line in l]"
   ]
  },
  {
   "cell_type": "code",
   "execution_count": 94,
   "id": "b1a3fedd-26eb-4052-aa4e-3cdb501622fc",
   "metadata": {
    "tags": []
   },
   "outputs": [
    {
     "data": {
      "text/html": [
       "<div>\n",
       "<style scoped>\n",
       "    .dataframe tbody tr th:only-of-type {\n",
       "        vertical-align: middle;\n",
       "    }\n",
       "\n",
       "    .dataframe tbody tr th {\n",
       "        vertical-align: top;\n",
       "    }\n",
       "\n",
       "    .dataframe thead th {\n",
       "        text-align: right;\n",
       "    }\n",
       "</style>\n",
       "<table border=\"1\" class=\"dataframe\">\n",
       "  <thead>\n",
       "    <tr style=\"text-align: right;\">\n",
       "      <th></th>\n",
       "      <th>Mutations</th>\n",
       "      <th>prev</th>\n",
       "      <th>where</th>\n",
       "      <th>RBD</th>\n",
       "      <th>ACE2</th>\n",
       "      <th>class</th>\n",
       "      <th>size</th>\n",
       "      <th>polarity</th>\n",
       "      <th>charge</th>\n",
       "      <th>mutations</th>\n",
       "      <th>outcome</th>\n",
       "    </tr>\n",
       "  </thead>\n",
       "  <tbody>\n",
       "    <tr>\n",
       "      <th>174</th>\n",
       "      <td>A344S</td>\n",
       "      <td>NaN</td>\n",
       "      <td>NaN</td>\n",
       "      <td>-0.326079</td>\n",
       "      <td>0.0</td>\n",
       "      <td>5</td>\n",
       "      <td>0</td>\n",
       "      <td>1</td>\n",
       "      <td>0</td>\n",
       "      <td>AS</td>\n",
       "      <td>0</td>\n",
       "    </tr>\n",
       "  </tbody>\n",
       "</table>\n",
       "</div>"
      ],
      "text/plain": [
       "    Mutations prev where       RBD  ACE2  class  size  polarity  charge  \\\n",
       "174     A344S  NaN   NaN -0.326079   0.0      5     0         1       0   \n",
       "\n",
       "    mutations  outcome  \n",
       "174        AS        0  "
      ]
     },
     "execution_count": 94,
     "metadata": {},
     "output_type": "execute_result"
    }
   ],
   "source": [
    "df[df['Mutations'] == lines[1]]"
   ]
  },
  {
   "cell_type": "code",
   "execution_count": 95,
   "id": "59fcfa69-5299-4151-909f-7ce9ebb4cdf0",
   "metadata": {
    "tags": []
   },
   "outputs": [],
   "source": [
    "x = torch.load('mutated_esms/Wuhan_RBD_'+lines[0]+'.pt')['mean_representations'][33]"
   ]
  },
  {
   "cell_type": "code",
   "execution_count": 96,
   "id": "ebfe3f5e-582a-4cc9-8285-262e8d2bd4fd",
   "metadata": {
    "tags": []
   },
   "outputs": [],
   "source": [
    "y = df[df['Mutations'] == lines[0]][['RBD','ACE2','class','size','polarity','charge','outcome']]"
   ]
  },
  {
   "cell_type": "code",
   "execution_count": 103,
   "id": "91427fa3-f2bc-4cce-a0e2-c7f3a7a2911d",
   "metadata": {
    "tags": []
   },
   "outputs": [
    {
     "ename": "RuntimeError",
     "evalue": "Could not infer dtype of builtin_function_or_method",
     "output_type": "error",
     "traceback": [
      "\u001b[0;31m---------------------------------------------------------------------------\u001b[0m",
      "\u001b[0;31mRuntimeError\u001b[0m                              Traceback (most recent call last)",
      "Cell \u001b[0;32mIn[103], line 1\u001b[0m\n\u001b[0;32m----> 1\u001b[0m y \u001b[38;5;241m=\u001b[39m torch\u001b[38;5;241m.\u001b[39mtensor(y\u001b[38;5;241m.\u001b[39mvalues)\u001b[38;5;241m.\u001b[39mflatten()\n",
      "\u001b[0;31mRuntimeError\u001b[0m: Could not infer dtype of builtin_function_or_method"
     ]
    }
   ],
   "source": [
    "y = torch.tensor(y.values)"
   ]
  },
  {
   "cell_type": "code",
   "execution_count": 101,
   "id": "cb3ccdad-649a-4b42-8a50-0e1481bd5d51",
   "metadata": {
    "tags": []
   },
   "outputs": [
    {
     "data": {
      "text/plain": [
       "torch.Size([1280])"
      ]
     },
     "execution_count": 101,
     "metadata": {},
     "output_type": "execute_result"
    }
   ],
   "source": [
    "x.shape"
   ]
  },
  {
   "cell_type": "code",
   "execution_count": 102,
   "id": "75357742-e9a1-46ef-9339-eaa2c6d2cb8b",
   "metadata": {
    "tags": []
   },
   "outputs": [
    {
     "data": {
      "text/plain": [
       "torch.Size([1, 7])"
      ]
     },
     "execution_count": 102,
     "metadata": {},
     "output_type": "execute_result"
    }
   ],
   "source": [
    "y.shape"
   ]
  },
  {
   "cell_type": "code",
   "execution_count": 107,
   "id": "74842feb-df9f-4ca1-871c-673d2f7dc5aa",
   "metadata": {
    "tags": []
   },
   "outputs": [
    {
     "data": {
      "text/plain": [
       "torch.Size([1286])"
      ]
     },
     "execution_count": 107,
     "metadata": {},
     "output_type": "execute_result"
    }
   ],
   "source": [
    "torch.concatenate((x,y.flatten()))[:-1].shape"
   ]
  },
  {
   "cell_type": "code",
   "execution_count": 108,
   "id": "c6ae9fd6-14fa-46b0-86e8-b87d3f41bc72",
   "metadata": {
    "tags": []
   },
   "outputs": [],
   "source": [
    "X = []\n",
    "Y = []\n",
    "for l in lines:\n",
    "    x1 = torch.load('mutated_esms/Wuhan_RBD_'+lines[0]+'.pt')['mean_representations'][33]\n",
    "    x2 = df[df['Mutations'] == lines[0]][['RBD','ACE2','class','size','polarity','charge','outcome']]\n",
    "    x2 = torch.tensor(x2.values).flatten()\n",
    "    x = torch.concatenate((x1,x2.flatten()))\n",
    "    y = x[-1]\n",
    "    x = x[:-1]\n",
    "    X.append(x)\n",
    "    Y.append(y)"
   ]
  },
  {
   "cell_type": "code",
   "execution_count": 109,
   "id": "fe21b8ec-2918-4cf2-bbaa-8304bad9db1c",
   "metadata": {
    "tags": []
   },
   "outputs": [
    {
     "data": {
      "text/plain": [
       "213"
      ]
     },
     "execution_count": 109,
     "metadata": {},
     "output_type": "execute_result"
    }
   ],
   "source": [
    "len(X)"
   ]
  },
  {
   "cell_type": "code",
   "execution_count": 110,
   "id": "c18ef246-3d82-4527-a2c1-588187011b65",
   "metadata": {
    "tags": []
   },
   "outputs": [
    {
     "data": {
      "text/plain": [
       "213"
      ]
     },
     "execution_count": 110,
     "metadata": {},
     "output_type": "execute_result"
    }
   ],
   "source": [
    "len(Y)"
   ]
  },
  {
   "cell_type": "code",
   "execution_count": 111,
   "id": "1049c75b-a6bb-448c-8719-3ebaa6140ccf",
   "metadata": {
    "tags": []
   },
   "outputs": [
    {
     "data": {
      "text/plain": [
       "torch.Size([1286])"
      ]
     },
     "execution_count": 111,
     "metadata": {},
     "output_type": "execute_result"
    }
   ],
   "source": [
    "X[0].shape"
   ]
  },
  {
   "cell_type": "code",
   "execution_count": 149,
   "id": "133b066a-ef12-4069-9927-64a5284c0bed",
   "metadata": {
    "tags": []
   },
   "outputs": [
    {
     "name": "stdout",
     "output_type": "stream",
     "text": [
      "(array([39]), array([1281]))\n"
     ]
    }
   ],
   "source": [
    "print(np.where(np.isnan(X)))"
   ]
  },
  {
   "cell_type": "code",
   "execution_count": null,
   "id": "fbd0f69e-dabc-484a-9d2c-e7f3f6e5a0c9",
   "metadata": {
    "tags": []
   },
   "outputs": [],
   "source": [
    "Y = np.array(Y)"
   ]
  },
  {
   "cell_type": "code",
   "execution_count": 132,
   "id": "1f168824-84b6-4619-a2db-59b4851cf776",
   "metadata": {
    "tags": []
   },
   "outputs": [],
   "source": [
    "x_arr = []\n",
    "for i in X:\n",
    "    x = np.array(i)\n",
    "    x_arr.append(x)\n",
    "X = np.array(x_arr)    "
   ]
  },
  {
   "cell_type": "code",
   "execution_count": 150,
   "id": "a9da9686-eb46-4d78-b134-770ec019c501",
   "metadata": {
    "tags": []
   },
   "outputs": [],
   "source": [
    "X = np.nan_to_num(X, nan=0)"
   ]
  },
  {
   "cell_type": "code",
   "execution_count": 151,
   "id": "3d677a09-0816-4364-92d2-c9ff1c72edd3",
   "metadata": {
    "tags": []
   },
   "outputs": [],
   "source": [
    "X_train, X_test, Y_train, Y_test = train_test_split(X, Y, test_size=0.2, random_state=42)"
   ]
  },
  {
   "cell_type": "code",
   "execution_count": 152,
   "id": "128ce8a5-c12e-4d16-964f-09ca292dfa06",
   "metadata": {
    "tags": []
   },
   "outputs": [
    {
     "name": "stdout",
     "output_type": "stream",
     "text": [
      "Accuracy: 0.9069767441860465\n"
     ]
    }
   ],
   "source": [
    "logreg = LogisticRegression()\n",
    "\n",
    "# Train the model\n",
    "logreg.fit(X_train, Y_train)\n",
    "\n",
    "# Predict on the test set\n",
    "Y_pred = logreg.predict(X_test)\n",
    "\n",
    "# Evaluate the model\n",
    "accuracy = (Y_pred == Y_test).mean()\n",
    "print(\"Accuracy:\", accuracy)"
   ]
  },
  {
   "cell_type": "code",
   "execution_count": null,
   "id": "7f0fe65c-9337-4bb8-beba-4a32b1991464",
   "metadata": {},
   "outputs": [],
   "source": []
  },
  {
   "cell_type": "code",
   "execution_count": null,
   "id": "7895ac42-ae00-4a18-8596-bbcb0157b3ad",
   "metadata": {},
   "outputs": [],
   "source": []
  },
  {
   "cell_type": "code",
   "execution_count": null,
   "id": "98c7291a-efe6-4195-90a0-2111faf310e0",
   "metadata": {},
   "outputs": [],
   "source": []
  },
  {
   "cell_type": "code",
   "execution_count": 21,
   "id": "3113d579-e056-45dd-801b-13a32a992970",
   "metadata": {
    "tags": []
   },
   "outputs": [],
   "source": [
    "import torch"
   ]
  },
  {
   "cell_type": "code",
   "execution_count": 22,
   "id": "b01eeea5-a90f-42d2-9e8a-15a339176629",
   "metadata": {
    "tags": []
   },
   "outputs": [],
   "source": [
    "x = torch.load('mutated_esms/Wuhan_RBD_A344D.pt')"
   ]
  },
  {
   "cell_type": "code",
   "execution_count": 26,
   "id": "63daa74c-f686-49d5-8f0e-ad266a5a5227",
   "metadata": {
    "tags": []
   },
   "outputs": [
    {
     "data": {
      "text/plain": [
       "torch.Size([1280])"
      ]
     },
     "execution_count": 26,
     "metadata": {},
     "output_type": "execute_result"
    }
   ],
   "source": [
    "x['mean_representations'][33].shape"
   ]
  },
  {
   "cell_type": "code",
   "execution_count": 10,
   "id": "030a6888-ad3e-4851-8f5f-db009313cff8",
   "metadata": {
    "tags": []
   },
   "outputs": [],
   "source": [
    "with open('mutated_seqs.fasta','r') as in_fasta:\n",
    "    seqs = []\n",
    "    for record in SeqIO.parse(in_fasta,'fasta'):\n",
    "        seqs.append(MutableSeq(str(record.seq)))"
   ]
  },
  {
   "cell_type": "code",
   "execution_count": 16,
   "id": "617145e3-01f8-4e5f-8988-267791a34bd5",
   "metadata": {
    "tags": []
   },
   "outputs": [],
   "source": [
    "with open('mutations.txt','r') as i:\n",
    "    lines = i.readlines()\n",
    "    lines = [line.rstrip(\"\\n\") for line in lines]"
   ]
  },
  {
   "cell_type": "code",
   "execution_count": 20,
   "id": "1aa33880-5da6-47b1-a46c-338433872b32",
   "metadata": {
    "tags": []
   },
   "outputs": [],
   "source": [
    "for i,l in enumerate(lines):\n",
    "    mutated = l[-1]\n",
    "    site = int(l[1:-1])\n",
    "    if seqs[i][site-319] != mutated:\n",
    "        print('Not OK')"
   ]
  },
  {
   "cell_type": "code",
   "execution_count": 8,
   "id": "c3387985-e585-4167-9c29-e6e23d7c3b81",
   "metadata": {
    "tags": []
   },
   "outputs": [
    {
     "data": {
      "text/plain": [
       "'Wuhan_RBD_F486A'"
      ]
     },
     "execution_count": 8,
     "metadata": {},
     "output_type": "execute_result"
    }
   ],
   "source": [
    "record.name"
   ]
  },
  {
   "cell_type": "code",
   "execution_count": 63,
   "id": "9b5e6eca-18f7-43b9-b44d-b99ed7252909",
   "metadata": {
    "tags": []
   },
   "outputs": [],
   "source": [
    "with open('mutations.txt','r') as i:\n",
    "    lines = i.readlines()\n",
    "    lines = [line.rstrip(\"\\n\") for line in lines]\n",
    "    "
   ]
  },
  {
   "cell_type": "code",
   "execution_count": 51,
   "id": "b6dd7003-3c1a-440e-b5db-168d7392a79e",
   "metadata": {
    "tags": []
   },
   "outputs": [],
   "source": [
    "x = 'G504F'"
   ]
  },
  {
   "cell_type": "code",
   "execution_count": 55,
   "id": "32577f32-a3bb-4f67-8216-0f2436dc7858",
   "metadata": {
    "tags": []
   },
   "outputs": [
    {
     "data": {
      "text/plain": [
       "504"
      ]
     },
     "execution_count": 55,
     "metadata": {},
     "output_type": "execute_result"
    }
   ],
   "source": [
    "int(x[1:-1])"
   ]
  },
  {
   "cell_type": "code",
   "execution_count": 1,
   "id": "f7d2019a-a073-4258-b9b3-88729c0cf70f",
   "metadata": {
    "tags": []
   },
   "outputs": [
    {
     "name": "stdout",
     "output_type": "stream",
     "text": [
      "Python 3.11.5\n"
     ]
    }
   ],
   "source": [
    "!python --version"
   ]
  },
  {
   "cell_type": "code",
   "execution_count": 2,
   "id": "9f4f29ef-9439-46a2-8362-4fd245a6ea82",
   "metadata": {
    "tags": []
   },
   "outputs": [
    {
     "name": "stdout",
     "output_type": "stream",
     "text": [
      "usage: esm-extract [-h] [--toks_per_batch TOKS_PER_BATCH]\n",
      "                   [--repr_layers REPR_LAYERS [REPR_LAYERS ...]] --include\n",
      "                   {mean,per_tok,bos,contacts}\n",
      "                   [{mean,per_tok,bos,contacts} ...]\n",
      "                   [--truncation_seq_length TRUNCATION_SEQ_LENGTH] [--nogpu]\n",
      "                   model_location fasta_file output_dir\n",
      "esm-extract: error: the following arguments are required: model_location, fasta_file, output_dir, --include\n"
     ]
    }
   ],
   "source": [
    "!esm-extract"
   ]
  },
  {
   "cell_type": "code",
   "execution_count": 3,
   "id": "391b55a3-076e-42ef-ba80-4013b4ec2495",
   "metadata": {
    "tags": []
   },
   "outputs": [],
   "source": [
    "from Bio import SeqIO"
   ]
  },
  {
   "cell_type": "code",
   "execution_count": 82,
   "id": "c8ad535d-5c74-4cd5-9b37-fcea8091a652",
   "metadata": {
    "tags": []
   },
   "outputs": [],
   "source": [
    "def modify_sequence(sequence,site,initial_mutation,final_mutation):\n",
    "    modified_sequence = sequence.replace()"
   ]
  },
  {
   "cell_type": "code",
   "execution_count": 83,
   "id": "55ab5dda-0abb-469c-a738-744093e798f0",
   "metadata": {
    "tags": []
   },
   "outputs": [],
   "source": [
    "input_fasta = 'wuhan_spike.fasta'"
   ]
  },
  {
   "cell_type": "code",
   "execution_count": 84,
   "id": "4f5d4351-e78b-463d-90b6-5ea762bed7f7",
   "metadata": {
    "tags": []
   },
   "outputs": [],
   "source": [
    "with open(input_fasta,'r') as input_handle:\n",
    "    for record in SeqIO.parse(input_fasta,'fasta'):\n",
    "        in_fasta = record"
   ]
  },
  {
   "cell_type": "code",
   "execution_count": 85,
   "id": "37a889d2-c451-459e-9a06-b6cd35fcb1fd",
   "metadata": {
    "tags": []
   },
   "outputs": [
    {
     "data": {
      "text/plain": [
       "Seq('MFVFLVLLPLVSSQCVNLTTRTQLPPAYTNSFTRGVYYPDKVFRSSVLHSTQDL...HYT')"
      ]
     },
     "execution_count": 85,
     "metadata": {},
     "output_type": "execute_result"
    }
   ],
   "source": [
    "record.seq"
   ]
  },
  {
   "cell_type": "code",
   "execution_count": 86,
   "id": "34c44997-af6a-4643-bf8c-417ebd376297",
   "metadata": {
    "tags": []
   },
   "outputs": [],
   "source": [
    "from Bio.Seq import Seq"
   ]
  },
  {
   "cell_type": "code",
   "execution_count": 87,
   "id": "c4edd03a-d2d5-406d-9c0f-9864a5bb3a1e",
   "metadata": {
    "tags": []
   },
   "outputs": [],
   "source": [
    "from Bio.SeqRecord import SeqRecord"
   ]
  },
  {
   "cell_type": "code",
   "execution_count": 88,
   "id": "d9703ee0-045f-4e56-8c72-e87a93c70d50",
   "metadata": {
    "tags": []
   },
   "outputs": [],
   "source": [
    "x = record.seq"
   ]
  },
  {
   "cell_type": "code",
   "execution_count": 89,
   "id": "4d95ad06-a2ab-49cd-8f40-88971c9643af",
   "metadata": {
    "tags": []
   },
   "outputs": [],
   "source": [
    "from Bio.Seq import MutableSeq"
   ]
  },
  {
   "cell_type": "code",
   "execution_count": 90,
   "id": "b84334ce-127f-47fb-92ce-f77471b0373f",
   "metadata": {
    "tags": []
   },
   "outputs": [],
   "source": [
    "y = MutableSeq(str(x))"
   ]
  },
  {
   "cell_type": "code",
   "execution_count": 30,
   "id": "3cb45cc5-f845-4234-9ddf-1bde6aff3e66",
   "metadata": {
    "tags": []
   },
   "outputs": [],
   "source": [
    "y[450-1] = 'D'"
   ]
  },
  {
   "cell_type": "code",
   "execution_count": 104,
   "id": "8b31558d-a60c-4606-af6a-1ad629082f35",
   "metadata": {
    "tags": []
   },
   "outputs": [
    {
     "data": {
      "text/plain": [
       "'K'"
      ]
     },
     "execution_count": 104,
     "metadata": {},
     "output_type": "execute_result"
    }
   ],
   "source": [
    "y[355]"
   ]
  },
  {
   "cell_type": "code",
   "execution_count": 93,
   "id": "23789545-6f25-413b-841c-e3fe8430a110",
   "metadata": {
    "tags": []
   },
   "outputs": [
    {
     "data": {
      "text/plain": [
       "True"
      ]
     },
     "execution_count": 93,
     "metadata": {},
     "output_type": "execute_result"
    }
   ],
   "source": [
    "y[450-1] == 'N'"
   ]
  },
  {
   "cell_type": "code",
   "execution_count": 49,
   "id": "8a6d79b1-cf59-488b-a81c-10f88e07c82a",
   "metadata": {
    "tags": []
   },
   "outputs": [],
   "source": [
    "z = y[318:541]"
   ]
  },
  {
   "cell_type": "code",
   "execution_count": 50,
   "id": "5d963e5b-fe41-45ba-886f-770bbdf45e77",
   "metadata": {
    "tags": []
   },
   "outputs": [
    {
     "data": {
      "text/plain": [
       "MutableSeq('RVQPTESIVRFPNITNLCPFGEVFNATRFASVYAWNRKRISNCVADYSVLYNSA...VNF')"
      ]
     },
     "execution_count": 50,
     "metadata": {},
     "output_type": "execute_result"
    }
   ],
   "source": [
    "z"
   ]
  },
  {
   "cell_type": "code",
   "execution_count": 36,
   "id": "04cf7223-1d72-4e45-aba8-690d8f16bea2",
   "metadata": {
    "tags": []
   },
   "outputs": [
    {
     "data": {
      "text/plain": [
       "SeqRecord(seq=MutableSeq('MFVFLVLLPLVSSQCVNLTTRTQLPPAYTNSFTRGVYYPDKVFRSSVLHSTQDL...HYT'), id='<unknown id>', name='<unknown name>', description='<unknown description>', dbxrefs=[])"
      ]
     },
     "execution_count": 36,
     "metadata": {},
     "output_type": "execute_result"
    }
   ],
   "source": [
    "SeqRecord(y)"
   ]
  },
  {
   "cell_type": "code",
   "execution_count": 34,
   "id": "a36bf986-23a2-425d-9f3d-76e9a5dfda10",
   "metadata": {
    "tags": []
   },
   "outputs": [
    {
     "data": {
      "text/plain": [
       "'Wuhan_spike'"
      ]
     },
     "execution_count": 34,
     "metadata": {},
     "output_type": "execute_result"
    }
   ],
   "source": [
    "record.id"
   ]
  },
  {
   "cell_type": "code",
   "execution_count": null,
   "id": "84002d51-8c49-4c46-9d64-7fbf1bfb7ab2",
   "metadata": {},
   "outputs": [],
   "source": []
  }
 ],
 "metadata": {
  "kernelspec": {
   "display_name": "Python 3 (ipykernel)",
   "language": "python",
   "name": "python3"
  },
  "language_info": {
   "codemirror_mode": {
    "name": "ipython",
    "version": 3
   },
   "file_extension": ".py",
   "mimetype": "text/x-python",
   "name": "python",
   "nbconvert_exporter": "python",
   "pygments_lexer": "ipython3",
   "version": "3.11.5"
  }
 },
 "nbformat": 4,
 "nbformat_minor": 5
}
